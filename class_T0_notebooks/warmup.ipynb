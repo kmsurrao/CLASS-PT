{
 "cells": [
  {
   "cell_type": "code",
   "execution_count": null,
   "metadata": {},
   "outputs": [],
   "source": [
    "# import classy module\n",
    "from classy import Class"
   ]
  },
  {
   "cell_type": "code",
   "execution_count": 2,
   "metadata": {
    "tags": []
   },
   "outputs": [
    {
     "ename": "CosmoComputationError",
     "evalue": "\n\nError in Class: thermodynamics_init(L:304) :error in thermodynamics_helium_from_bbn(ppr,pba,pth);\n=>thermodynamics_helium_from_bbn(L:1143) :could not open fA with name /global/u2/k/kmsurrao/CLASS-PT-master/bbn/sBBN_2017.dat and mode \"r\"",
     "output_type": "error",
     "traceback": [
      "\u001b[0;31m---------------------------------------------------------------------------\u001b[0m",
      "\u001b[0;31mCosmoComputationError\u001b[0m                     Traceback (most recent call last)",
      "Input \u001b[0;32mIn [2]\u001b[0m, in \u001b[0;36m<cell line: 7>\u001b[0;34m()\u001b[0m\n\u001b[1;32m      5\u001b[0m LambdaCDM\u001b[38;5;241m.\u001b[39mset({\u001b[38;5;124m'\u001b[39m\u001b[38;5;124moutput\u001b[39m\u001b[38;5;124m'\u001b[39m:\u001b[38;5;124m'\u001b[39m\u001b[38;5;124mtCl,pCl,lCl,mPk\u001b[39m\u001b[38;5;124m'\u001b[39m,\u001b[38;5;124m'\u001b[39m\u001b[38;5;124mlensing\u001b[39m\u001b[38;5;124m'\u001b[39m:\u001b[38;5;124m'\u001b[39m\u001b[38;5;124myes\u001b[39m\u001b[38;5;124m'\u001b[39m,\u001b[38;5;124m'\u001b[39m\u001b[38;5;124mP_k_max_1/Mpc\u001b[39m\u001b[38;5;124m'\u001b[39m:\u001b[38;5;241m3.0\u001b[39m})\n\u001b[1;32m      6\u001b[0m \u001b[38;5;66;03m# run class\u001b[39;00m\n\u001b[0;32m----> 7\u001b[0m \u001b[43mLambdaCDM\u001b[49m\u001b[38;5;241;43m.\u001b[39;49m\u001b[43mcompute\u001b[49m\u001b[43m(\u001b[49m\u001b[43m)\u001b[49m\n",
      "File \u001b[0;32mclassy.pyx:350\u001b[0m, in \u001b[0;36mclassy.Class.compute\u001b[0;34m()\u001b[0m\n",
      "\u001b[0;31mCosmoComputationError\u001b[0m: \n\nError in Class: thermodynamics_init(L:304) :error in thermodynamics_helium_from_bbn(ppr,pba,pth);\n=>thermodynamics_helium_from_bbn(L:1143) :could not open fA with name /global/u2/k/kmsurrao/CLASS-PT-master/bbn/sBBN_2017.dat and mode \"r\""
     ]
    }
   ],
   "source": [
    "# create instance of the class \"Class\"\n",
    "LambdaCDM = Class()\n",
    "# pass input parameters\n",
    "LambdaCDM.set({'omega_b':0.022032,'omega_cdm':0.12038,'h':0.67556,'A_s':2.215e-9,'n_s':0.9619,'tau_reio':0.0925})\n",
    "LambdaCDM.set({'output':'tCl,pCl,lCl,mPk','lensing':'yes','P_k_max_1/Mpc':3.0})\n",
    "# run class\n",
    "LambdaCDM.compute()"
   ]
  },
  {
   "cell_type": "code",
   "execution_count": null,
   "metadata": {},
   "outputs": [],
   "source": [
    "# get all C_l output\n",
    "cls = LambdaCDM.lensed_cl(2500)\n",
    "# To check the format of cls\n",
    "cls.viewkeys()"
   ]
  },
  {
   "cell_type": "code",
   "execution_count": null,
   "metadata": {},
   "outputs": [],
   "source": [
    "ll = cls['ell'][2:]\n",
    "clTT = cls['tt'][2:]\n",
    "clEE = cls['ee'][2:]\n",
    "clPP = cls['pp'][2:]"
   ]
  },
  {
   "cell_type": "code",
   "execution_count": null,
   "metadata": {
    "collapsed": true,
    "jupyter": {
     "outputs_hidden": true
    }
   },
   "outputs": [],
   "source": [
    "# uncomment to get plots displayed in notebook\n",
    "%matplotlib inline\n",
    "import matplotlib.pyplot as plt\n",
    "from math import pi"
   ]
  },
  {
   "cell_type": "code",
   "execution_count": null,
   "metadata": {},
   "outputs": [],
   "source": [
    "# plot C_l^TT\n",
    "plt.figure(1)\n",
    "plt.xscale('log');plt.yscale('linear');plt.xlim(2,2500)\n",
    "plt.xlabel(r'$\\ell$')\n",
    "plt.ylabel(r'$[\\ell(\\ell+1)/2\\pi]  C_\\ell^\\mathrm{TT}$')\n",
    "plt.plot(ll,clTT*ll*(ll+1)/2./pi,'r-')"
   ]
  },
  {
   "cell_type": "code",
   "execution_count": null,
   "metadata": {},
   "outputs": [],
   "source": [
    "plt.savefig('warmup_cltt.pdf')"
   ]
  },
  {
   "cell_type": "code",
   "execution_count": null,
   "metadata": {},
   "outputs": [],
   "source": [
    "# get P(k) at redhsift z=0\n",
    "import numpy as np\n",
    "kk = np.logspace(-4,np.log10(3),1000) # k in h/Mpc\n",
    "Pk = [] # P(k) in (Mpc/h)**3\n",
    "h = LambdaCDM.h() # get reduced Hubble for conversions to 1/Mpc\n",
    "for k in kk:\n",
    "    Pk.append(LambdaCDM.pk(k*h,0.)*h**3) # function .pk(k,z)"
   ]
  },
  {
   "cell_type": "code",
   "execution_count": null,
   "metadata": {},
   "outputs": [],
   "source": [
    "# plot P(k)\n",
    "plt.figure(2)\n",
    "plt.xscale('log');plt.yscale('log');plt.xlim(kk[0],kk[-1])\n",
    "plt.xlabel(r'$k \\,\\,\\,\\, [h/\\mathrm{Mpc}]$')\n",
    "plt.ylabel(r'$P(k) \\,\\,\\,\\, [\\mathrm{Mpc}/h]^3$')\n",
    "plt.plot(kk,Pk,'b-')"
   ]
  },
  {
   "cell_type": "code",
   "execution_count": null,
   "metadata": {},
   "outputs": [],
   "source": [
    "plt.savefig('warmup_pk.pdf')"
   ]
  },
  {
   "cell_type": "code",
   "execution_count": null,
   "metadata": {},
   "outputs": [],
   "source": [
    "# optional: clear content of LambdaCDM (to reuse it for another model)\n",
    "LambdaCDM.struct_cleanup()\n",
    "# optional: reset parameters to default\n",
    "LambdaCDM.empty()"
   ]
  }
 ],
 "metadata": {
  "kernelspec": {
   "display_name": "MyEnv",
   "language": "python",
   "name": "myenv"
  },
  "language_info": {
   "codemirror_mode": {
    "name": "ipython",
    "version": 3
   },
   "file_extension": ".py",
   "mimetype": "text/x-python",
   "name": "python",
   "nbconvert_exporter": "python",
   "pygments_lexer": "ipython3",
   "version": "3.9.12"
  }
 },
 "nbformat": 4,
 "nbformat_minor": 4
}
