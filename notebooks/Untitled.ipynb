{
 "cells": [
  {
   "cell_type": "code",
   "execution_count": null,
   "id": "935b0db0-fbce-46bb-866c-21f6acdbccd2",
   "metadata": {},
   "outputs": [],
   "source": []
  }
 ],
 "metadata": {
  "kernelspec": {
   "display_name": "",
   "name": ""
  },
  "language_info": {
   "name": ""
  }
 },
 "nbformat": 4,
 "nbformat_minor": 5
}
